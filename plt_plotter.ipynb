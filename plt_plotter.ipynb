def plot(y_axis_name,title, x_axis_name= 'Epochs', x = epoch , y = [] , y_names = [], axis = [0,20,0,300]):
  plt.rcParams["figure.figsize"]= 40 , 18
  
  if len(axis) != 4:
    print('ERROR: axis list length must be 4, denoting [xmin,xmax,ymin,ymax]')
    return None
  if len(y) != len(y_names):
    print('ERROR: Length of y and y_names must be the same! try again.')
    return None

  for item,name in zip(y,y_names): 
    plt.plot(x,item, label= name, linewidth = 3.0)
  
  plt.title(title, fontsize=40)
  plt.ylabel(y_axis_name, fontsize=36)
  plt.xlabel(x_axis_name, fontsize=36)
  plt.legend(loc="upper left", fontsize=40)
  plt.xticks(range(axis[0],axis[1]),rotation = 65, fontsize = 12)
  plt.yticks(fontsize=24)
  plt.axis(axis)
  plt.show()

plot('Training Loss', ' ', y=[encoder_train,cnn_train,deep_train,vanilla_train],
     y_names=['Encoder Decoder','CNN LSTM','Deep LSTM','Vanilla'], axis=[0,250,3,12])  
